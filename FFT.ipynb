{
 "cells": [
  {
   "cell_type": "code",
   "execution_count": 1,
   "metadata": {},
   "outputs": [],
   "source": [
    "import numpy as np\n",
    "import matplotlib.pyplot as plt\n",
    "import time\n",
    "%load_ext autoreload\n",
    "%autoreload 2\n",
    "#%matplotlib inline\n",
    "%matplotlib ipympl"
   ]
  },
  {
   "cell_type": "code",
   "execution_count": 2,
   "metadata": {},
   "outputs": [],
   "source": [
    "def f(x):\n",
    "    return np.sin(x)"
   ]
  },
  {
   "cell_type": "code",
   "execution_count": 3,
   "metadata": {},
   "outputs": [
    {
     "name": "stdout",
     "output_type": "stream",
     "text": [
      "DFT 4.856726408004761\n",
      "FFT 0.36175084114074707\n"
     ]
    }
   ],
   "source": [
    "def DFT(f, N): #full, with repeated conjugate\n",
    "    x = np.linspace(0, N-1, N)\n",
    "    w = np.linspace(0, N-1, N)\n",
    "    F = f(2*np.pi*x/N) * np.exp(2.0j*np.pi*x/N*w[:, None]) # Nw, Nx\n",
    "    return F.sum(axis=1) * 2/N\n",
    "def FFT(f, N):\n",
    "    if N == 2:\n",
    "        return DFT(f, 2)\n",
    "    even = FFT(f, N//2) # Nw/2\n",
    "    def g(x):\n",
    "        return f(x + 2*np.pi/N) # choose odd number (shift wrt domain)\n",
    "    odd = FFT(g, N//2) # Nw/2\n",
    "    w = np.linspace(0, N-1, N) # Nw\n",
    "    return (np.tile(even, 2) + np.exp(2.0j*np.pi*w/N) * np.tile(odd, 2))/2\n",
    "N = 2**13\n",
    "time0 = time.time()\n",
    "S = FFT(f, N)\n",
    "time1 = time.time()\n",
    "S2 = DFT(f, N)\n",
    "time2 = time.time()\n",
    "print(f'DFT {time2 - time1}')\n",
    "print(f'FFT {time1 - time0}')"
   ]
  },
  {
   "cell_type": "code",
   "execution_count": 4,
   "metadata": {},
   "outputs": [
    {
     "name": "stdout",
     "output_type": "stream",
     "text": [
      "[-5.09438030e-17+0.00000000e+00j -2.29126048e-17+1.00000000e+00j\n",
      " -9.86762990e-17+6.29965894e-17j ... -5.12972802e-17-4.22970502e-17j\n",
      " -9.86762990e-17-6.29965894e-17j -1.79370924e-15-1.00000000e+00j]\n",
      "[ 0.00000000e+00+0.00000000e+00j  0.00000000e+00+1.00000000e+00j\n",
      "  5.55111512e-17-2.77555756e-17j ... -2.91433544e-15-7.30665528e-14j\n",
      "  1.44328993e-15-2.10775841e-13j -1.00749964e-12-1.00000000e+00j]\n"
     ]
    }
   ],
   "source": [
    "print(S)\n",
    "print(S2)"
   ]
  },
  {
   "cell_type": "code",
   "execution_count": 33,
   "metadata": {},
   "outputs": [
    {
     "name": "stdout",
     "output_type": "stream",
     "text": [
      "2.2277505244811863e-13\n"
     ]
    }
   ],
   "source": [
    "print(np.abs(S2 - S).sum())"
   ]
  },
  {
   "cell_type": "code",
   "execution_count": null,
   "metadata": {},
   "outputs": [],
   "source": []
  }
 ],
 "metadata": {
  "kernelspec": {
   "display_name": "base",
   "language": "python",
   "name": "python3"
  },
  "language_info": {
   "codemirror_mode": {
    "name": "ipython",
    "version": 3
   },
   "file_extension": ".py",
   "mimetype": "text/x-python",
   "name": "python",
   "nbconvert_exporter": "python",
   "pygments_lexer": "ipython3",
   "version": "3.12.7"
  }
 },
 "nbformat": 4,
 "nbformat_minor": 2
}
