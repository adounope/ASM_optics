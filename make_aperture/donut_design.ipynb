{
 "cells": [
  {
   "cell_type": "code",
   "execution_count": 5,
   "metadata": {},
   "outputs": [
    {
     "name": "stdout",
     "output_type": "stream",
     "text": [
      "The autoreload extension is already loaded. To reload it, use:\n",
      "  %reload_ext autoreload\n",
      "\n",
      "Nx=512, Ny=512, ND=20, Nθs=32\n",
      "float32 memory requirement: 0.625GB\n"
     ]
    }
   ],
   "source": [
    "config_path = './results/new_design/config.yaml'\n",
    "import numpy as np\n",
    "import matplotlib.pyplot as plt\n",
    "from datetime import datetime\n",
    "from tqdm import tqdm\n",
    "import src.ASM as ASM\n",
    "import src.math_tool as mt\n",
    "import src.img_tool as it\n",
    "from PIL import Image\n",
    "import yaml\n",
    "from box import Box\n",
    "%load_ext autoreload\n",
    "%autoreload 2\n",
    "%matplotlib ipympl\n",
    "time_string = datetime.now().isoformat(timespec='minutes')\n",
    "################################################## all code in unit of μm\n",
    "config = None\n",
    "with open(config_path, 'r') as f:\n",
    "    config = Box(yaml.safe_load(f))\n",
    "π, λ = np.pi, 0.532\n",
    "k = np.array(2*π/λ).astype(np.float32)\n",
    "x_start, x_end, y_start, y_end, z_start, z_end = tuple(config.simulation.range)\n",
    "Lx, Ly, Lz = x_end - x_start, y_end - y_start, z_end - z_start\n",
    "Nx_ticks, Ny_ticks, Nz_ticks = tuple(config.plot.N_ticks) \n",
    "z_batch_size = eval(config.simulation.z_batch_size)\n",
    "s_res = config.simulation.resolution\n",
    "Nx, Ny, Nz = eval(s_res[0]), eval(s_res[1]), eval(s_res[2]) # manufactured aperture have resolution of 1000 * 1000\n",
    "# xs, ys, zs = np.linspace(x_start, x_end, Nx, endpoint=False), np.linspace(y_start, y_end, Ny, endpoint=False), np.linspace(z_start, z_end, Nz, endpoint=False)\n",
    "xs, ys, zs = np.linspace(x_start, x_end, Nx, endpoint=False, dtype=np.float32), np.linspace(y_start, y_end, Ny, endpoint=False, dtype=np.float32), np.linspace(z_start, z_end, Nz, endpoint=False, dtype=np.float32)\n",
    "x_ticks, x_ticks_val, y_ticks, y_ticks_val, z_ticks, z_ticks_val = np.arange(0, Nx, Nx/Nx_ticks), np.round(xs[::Nx//Nx_ticks], decimals=config.plot.dp), np.arange(0, Ny, Ny/Ny_ticks), np.round(ys[::Ny//Ny_ticks], decimals=config.plot.dp), np.arange(0, Nz, Nz/Nz_ticks), np.round(zs[::Nz//Nz_ticks], decimals=config.plot.dp)\n",
    "Δx, Δy, Δz = xs[1]-xs[0], ys[1]-ys[0], zs[1]-zs[0]\n",
    "xs+=Δx/2; ys+=Δy/2 #center coordinate absolutely\n",
    "ND = 20\n",
    "Nθs = 32\n",
    "D_start, D_end = 30e3, 50e3\n",
    "Ds = np.linspace(D_start, D_end, ND, endpoint=False, dtype=np.float32)\n",
    "ND_ticks = 5\n",
    "D_ticks, D_ticks_val = np.arange(0, ND, ND/ND_ticks), np.linspace(D_start, D_end, ND_ticks, endpoint=False, dtype=np.float32)\n",
    "θ0s = np.linspace(0, 2*π, Nθs, endpoint=False, dtype=np.float32)\n",
    "x, y = np.meshgrid(xs, ys, indexing='ij')\n",
    "def cal_distance(x, y, D): #calculate distance from set x, y, to (0, 0, D)\n",
    "    '''\n",
    "        x, y <2d array>\n",
    "        D <1d array>\n",
    "    return\n",
    "        <3d array> # Nx, Ny, ND\n",
    "    '''\n",
    "    return np.sqrt( D**2 + mt.r(x, y, 0, 0)[..., None]**2)\n",
    "print()\n",
    "print(f'Nx={Nx}, Ny={Ny}, ND={ND}, Nθs={Nθs}')\n",
    "print(f'float32 memory requirement: {32*Nx*Ny*ND*Nθs/8/1024**3}GB')"
   ]
  },
  {
   "cell_type": "code",
   "execution_count": 7,
   "metadata": {},
   "outputs": [
    {
     "name": "stdout",
     "output_type": "stream",
     "text": [
      "(512, 512, 32)\n"
     ]
    }
   ],
   "source": [
    "# revolve the aperture design to produce a donut shaped focus with donut radius r_d at focal distance D\n",
    "r_d = 50 # radius of donut # also try negative number\n",
    "D = 25e3 # focal distance\n",
    "r = (x**2 + y**2)**0.5\n",
    "θ_plus = np.mod(k * ((r - r_d)**2 + D**2)**0.5, np.float32(2*π))\n",
    "θ_minus = np.mod(k * ((r - (-r_d))**2 + D**2)**0.5, np.float32(2*π))\n",
    "cos_θ_plus_θ0s = np.cos(θ_plus[..., None]-θ0s) # Nx, Ny, Nθs\n",
    "aperture_plus = (cos_θ_plus_θ0s > 0) # aperture only selects location that have constructive contribution to θ0\n",
    "cos_θ_minus_θ0s = np.cos(θ_minus[..., None]-θ0s) # Nx, Ny, Nθs\n",
    "aperture_minus = (cos_θ_minus_θ0s > 0) # aperture only selects location that have constructive contribution to θ0\n",
    "print(aperture_plus.shape)"
   ]
  },
  {
   "cell_type": "code",
   "execution_count": 28,
   "metadata": {},
   "outputs": [
    {
     "name": "stdout",
     "output_type": "stream",
     "text": [
      "0.843170383720057\n",
      "0.9608947473537048\n"
     ]
    }
   ],
   "source": [
    "save_path = './aperture/tmp'\n",
    "import src.apertures as apertures\n",
    "mask = apertures.block_edge_mask(512, 512, 250)\n",
    "aperture_plus *= mask[..., None]\n",
    "aperture_minus *= mask[..., None]\n",
    "intensity_plus = aperture_plus.sum(axis=(0, 1))\n",
    "intensity_minus = aperture_minus.sum(axis=(0, 1))\n",
    "max_plus_idx = intensity_plus.argmax()\n",
    "max_minus_idx = intensity_minus.argmax()\n",
    "print(intensity_plus.min()/intensity_plus.max())\n",
    "print(intensity_minus.min()/intensity_minus.max())\n",
    "best_plus = aperture_plus[..., max_plus_idx]\n",
    "best_minus = aperture_minus[..., max_minus_idx]"
   ]
  },
  {
   "cell_type": "code",
   "execution_count": 29,
   "metadata": {},
   "outputs": [],
   "source": [
    "it.array_2_img(best_plus, f'{save_path}/f25_donut_50_plus.bmp')\n",
    "it.array_2_img(best_minus, f'{save_path}/f25_donut_50_minus.bmp')"
   ]
  },
  {
   "cell_type": "code",
   "execution_count": 30,
   "metadata": {},
   "outputs": [],
   "source": [
    "pad_edge = (2048 - 1024)//2\n",
    "best_plus_zoom = np.repeat(best_plus, 2, axis=0)\n",
    "best_plus_zoom = np.repeat(best_plus_zoom, 2, axis=1)\n",
    "best_plus_zoom_pad = it.img_pad(best_plus_zoom, (pad_edge, pad_edge, pad_edge, pad_edge), pad_val=False)\n",
    "best_minus_zoom = np.repeat(best_minus, 2, axis=0)\n",
    "best_minus_zoom = np.repeat(best_minus_zoom, 2, axis=1)\n",
    "best_minus_zoom_pad = it.img_pad(best_minus_zoom, (pad_edge, pad_edge, pad_edge, pad_edge), pad_val=False)"
   ]
  },
  {
   "cell_type": "code",
   "execution_count": 31,
   "metadata": {},
   "outputs": [],
   "source": [
    "it.array_2_img(best_plus_zoom_pad, f'{save_path}/f25_donut_50_plus_zoom_pad.bmp')\n",
    "it.array_2_img(best_minus_zoom_pad, f'{save_path}/f25_donut_50_minus_zoom_pad.bmp')"
   ]
  }
 ],
 "metadata": {
  "kernelspec": {
   "display_name": "c_pip",
   "language": "python",
   "name": "python3"
  },
  "language_info": {
   "codemirror_mode": {
    "name": "ipython",
    "version": 3
   },
   "file_extension": ".py",
   "mimetype": "text/x-python",
   "name": "python",
   "nbconvert_exporter": "python",
   "pygments_lexer": "ipython3",
   "version": "3.12.11"
  }
 },
 "nbformat": 4,
 "nbformat_minor": 2
}
